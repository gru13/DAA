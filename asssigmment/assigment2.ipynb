{
 "cells": [
  {
   "cell_type": "markdown",
   "metadata": {},
   "source": [
    "<h1>\n",
    "<center> Design and Analysis of Algorithms(22AIE212) </center>\n",
    "<center>Assignment - 2</center>\n",
    "</h1> "
   ]
  },
  {
   "cell_type": "markdown",
   "metadata": {},
   "source": [
    "## NAME : Guruprasath M R\n",
    "## Roll : CH.EN.U4AIE22015\n",
    "##  4TH SEM AIE"
   ]
  },
  {
   "cell_type": "markdown",
   "metadata": {},
   "source": [
    "## MATRIX MULTIPLICATION"
   ]
  },
  {
   "cell_type": "markdown",
   "metadata": {},
   "source": [
    "### Algorithm"
   ]
  },
  {
   "cell_type": "markdown",
   "metadata": {},
   "source": [
    "```plaintext\n",
    "ALGORITHM: MatrixMultiplication(A, B):\n",
    "// Multiplies two matrices A and B\n",
    "// Input: Matrices A (size m x n) and B (size n x p)\n",
    "// Output: Resulting matrix C (size m x p)\n",
    "\n",
    "m = number of rows in matrix A\n",
    "n = number of columns in matrix A (number of rows in matrix B)\n",
    "p = number of columns in matrix B\n",
    "\n",
    "// Initialize result matrix C with appropriate dimensions\n",
    "C = new matrix with dimensions m x p\n",
    "\n",
    "for i from 0 to m-1 do\n",
    "    for j from 0 to p-1 do\n",
    "        // Initialize the value at position (i, j) in C\n",
    "        C[i][j] = 0\n",
    "        for k from 0 to n-1 do\n",
    "            // Update the value at position (i, j) in C\n",
    "            C[i][j] += A[i][k] * B[k][j]\n",
    "        end for\n",
    "    end for\n",
    "end for\n",
    "\n",
    "return C\n",
    "```"
   ]
  },
  {
   "cell_type": "markdown",
   "metadata": {},
   "source": [
    "### CODE"
   ]
  },
  {
   "cell_type": "code",
   "execution_count": 1,
   "metadata": {},
   "outputs": [
    {
     "name": "stdout",
     "output_type": "stream",
     "text": [
      "[58, 64]\n",
      "[139, 154]\n"
     ]
    }
   ],
   "source": [
    "def matrix_multiplication(A, B):\n",
    "    m = len(A)\n",
    "    n = len(A[0])\n",
    "    p = len(B[0])\n",
    "    C = [[0] * p for _ in range(m)]\n",
    "    for i in range(m):\n",
    "        for j in range(p):\n",
    "            C[i][j] = 0\n",
    "            for k in range(n):\n",
    "                C[i][j] += A[i][k] * B[k][j]\n",
    "    return C\n",
    "\n",
    "# Example :\n",
    "A = [[1, 2, 3],\n",
    "     [4, 5, 6]]\n",
    "B = [[7, 8],\n",
    "     [9, 10],\n",
    "     [11, 12]]\n",
    "\n",
    "result = matrix_multiplication(A, B)\n",
    "for row in result:\n",
    "    print(row)"
   ]
  }
 ],
 "metadata": {
  "kernelspec": {
   "display_name": "Python 3",
   "language": "python",
   "name": "python3"
  },
  "language_info": {
   "codemirror_mode": {
    "name": "ipython",
    "version": 3
   },
   "file_extension": ".py",
   "mimetype": "text/x-python",
   "name": "python",
   "nbconvert_exporter": "python",
   "pygments_lexer": "ipython3",
   "version": "3.11.4"
  }
 },
 "nbformat": 4,
 "nbformat_minor": 2
}
